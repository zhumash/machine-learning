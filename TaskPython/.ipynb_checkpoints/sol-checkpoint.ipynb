{
 "cells": [
  {
   "cell_type": "code",
   "execution_count": 36,
   "metadata": {},
   "outputs": [],
   "source": [
    "def solution(n):\n",
    "    b = ''\n",
    "    while n != 0:\n",
    "        b += chr(n % 2 + 48)\n",
    "        n = n // 2;\n",
    "    b = b[::-1]\n",
    "    ones = [] \n",
    "    print(b)\n",
    "    for i in range(len(b)):\n",
    "        if b[i] == '1':\n",
    "            ones.append(i)\n",
    "    ans = 0\n",
    "    for i in range(1, len(ones), 1):\n",
    "        ans = max(ans, ones[i] - ones[i - 1] - 1)\n",
    "    print(ans)\n",
    "    return ans\n",
    "    "
   ]
  },
  {
   "cell_type": "code",
   "execution_count": 38,
   "metadata": {},
   "outputs": [
    {
     "name": "stdout",
     "output_type": "stream",
     "text": [
      "10000010001\n",
      "5\n"
     ]
    },
    {
     "data": {
      "text/plain": [
       "5"
      ]
     },
     "execution_count": 38,
     "metadata": {},
     "output_type": "execute_result"
    }
   ],
   "source": [
    "solution(1041 )"
   ]
  },
  {
   "cell_type": "code",
   "execution_count": null,
   "metadata": {},
   "outputs": [],
   "source": []
  }
 ],
 "metadata": {
  "kernelspec": {
   "display_name": "Python 3",
   "language": "python",
   "name": "python3"
  },
  "language_info": {
   "codemirror_mode": {
    "name": "ipython",
    "version": 3
   },
   "file_extension": ".py",
   "mimetype": "text/x-python",
   "name": "python",
   "nbconvert_exporter": "python",
   "pygments_lexer": "ipython3",
   "version": "3.8.5"
  }
 },
 "nbformat": 4,
 "nbformat_minor": 4
}
