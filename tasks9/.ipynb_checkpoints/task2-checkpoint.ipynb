{
 "cells": [
  {
   "cell_type": "code",
   "execution_count": null,
   "metadata": {},
   "outputs": [],
   "source": [
    "def getUnpaired(arr):\n",
    "    for el in arr:\n",
    "        if arr.count(el) == 1:\n",
    "            return el\n",
    "    return -1\n",
    "\n",
    "n = int(input('Введите N: '))\n",
    "arr = []\n",
    "print(type(arr))\n",
    "\n",
    "for it in range(n):\n",
    "    x = int(input(f'Введите A[{it}]: '))\n",
    "    arr.append(x)\n",
    "\n",
    "print(getUnpaired(arr))"
   ]
  }
 ],
 "metadata": {
  "kernelspec": {
   "display_name": "Python 3",
   "language": "python",
   "name": "python3"
  },
  "language_info": {
   "codemirror_mode": {
    "name": "ipython",
    "version": 3
   },
   "file_extension": ".py",
   "mimetype": "text/x-python",
   "name": "python",
   "nbconvert_exporter": "python",
   "pygments_lexer": "ipython3",
   "version": "3.8.5"
  }
 },
 "nbformat": 4,
 "nbformat_minor": 4
}
