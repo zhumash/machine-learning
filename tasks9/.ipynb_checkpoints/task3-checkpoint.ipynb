{
 "cells": [
  {
   "cell_type": "code",
   "execution_count": null,
   "metadata": {},
   "outputs": [],
   "source": [
    "# Рыба 0 находится выше всех по течению\n",
    "# A - размеры рыбы\n",
    "# B - направление движения (0 - вверх, 1 - вниз)\n",
    "# Если P>Q (P - выше) и B[P]=1 и B[Q] = 0, то они встретятся\n",
    "\n",
    "def cntAlive(arr):\n",
    "    A = arr[0]\n",
    "    B = arr[1]\n",
    "    cnt = len(A)\n",
    "    for i in range(len(A)-1):\n",
    "        pass_fish = False\n",
    "        for j in range(1, len(A)):\n",
    "            if pass_fish:\n",
    "                continue\n",
    "            if B[i] == 1 and B[j] == 0:\n",
    "                print(f'Рыба {i} встретила рыбу {j}...')\n",
    "                cnt-=1\n",
    "                if A[i] < A[j]:\n",
    "                    print(f'Рыба {j} съела рыбу {i}...')\n",
    "                    pass_fish = True\n",
    "                else:\n",
    "                    print(f'Рыба {i} съела рыбу {j}...')\n",
    "            else:\n",
    "                continue\n",
    "    return cnt\n",
    "\n",
    "def test():\n",
    "    test_arrs = [((4, 3, 6, 1, 5), (0, 1, 0, 0, 0)), ((6, 8, 1, 7, 5), (1, 0, 0, 1, 0))]\n",
    "    test_arr = test_arrs[1]\n",
    "    for it in range(len(test_arr)):\n",
    "        print(f'Рыба {it}: вес - {test_arr[0][it]}, направление - {test_arr[1][it]}')\n",
    "    print()\n",
    "    test_alive_fish = cntAlive(test_arr)\n",
    "    print()\n",
    "    print(f'Осталось в живых {test_alive_fish} рыб.')\n",
    "\n",
    "def main():\n",
    "    n = int(input('Введите N: '))\n",
    "    A = []\n",
    "    B = []\n",
    "    for it in range(n):\n",
    "        x = int(input(f'Введите A[{it}]: '))\n",
    "        y = int(input(f'Введите B[{it}]: '))\n",
    "        A.append(x)\n",
    "        B.append(y)\n",
    "    print()\n",
    "    alive_fish = cntAlive([A, B])\n",
    "    print()\n",
    "    print(f'Осталось в живых {alive_fish} рыб.')\n",
    "# test()\n",
    "main()"
   ]
  }
 ],
 "metadata": {
  "kernelspec": {
   "display_name": "Python 3",
   "language": "python",
   "name": "python3"
  },
  "language_info": {
   "codemirror_mode": {
    "name": "ipython",
    "version": 3
   },
   "file_extension": ".py",
   "mimetype": "text/x-python",
   "name": "python",
   "nbconvert_exporter": "python",
   "pygments_lexer": "ipython3",
   "version": "3.8.5"
  }
 },
 "nbformat": 4,
 "nbformat_minor": 4
}
