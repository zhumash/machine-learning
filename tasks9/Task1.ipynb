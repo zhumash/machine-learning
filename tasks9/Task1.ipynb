{
 "cells": [
  {
   "cell_type": "code",
   "execution_count": null,
   "metadata": {},
   "outputs": [],
   "source": [
    "def intersections(arr):\n",
    "    cnt = 0\n",
    "    for i in range(len(arr)-1):\n",
    "        for j in range(i+1, len(arr)):\n",
    "            if arr[i]+i >= j-arr[j]:\n",
    "                print(f'Круг {i} пересекается c кругом {j}')\n",
    "                cnt += 1\n",
    "    if cnt > 10000000:\n",
    "        return -1\n",
    "    else:\n",
    "        return cnt\n",
    "\n",
    "def test():\n",
    "    test_arrs = [(1, 5, 2, 1, 4, 0), (0, 1, 2, 3, 1, 1, 2, 2)]\n",
    "    test_arr = test_arrs[0]\n",
    "    print('Тестовый массив: ')\n",
    "    for it in range(len(test_arr)):\n",
    "        print(f'A[{it}] = {test_arr[it]}')\n",
    "    print()\n",
    "    test_intersections = intersections(test_arr)\n",
    "    print()\n",
    "    print(f'Кол-во пересечений: {test_intersections}')\n",
    "\n",
    "def main():\n",
    "    n = int(input('Введите N: '))\n",
    "    arr = []\n",
    "    for it in range(n):\n",
    "        x = int(input(f'Введите A[{it}]: '))\n",
    "        arr.append(x)\n",
    "    print()\n",
    "    inters_cnt = intersections(arr)\n",
    "    print()\n",
    "    print(f'Кол-во пересечений: {inters_cnt}')\n",
    "\n",
    "# test()\n",
    "main()"
   ]
  }
 ],
 "metadata": {
  "kernelspec": {
   "display_name": "Python 3",
   "language": "python",
   "name": "python3"
  },
  "language_info": {
   "codemirror_mode": {
    "name": "ipython",
    "version": 3
   },
   "file_extension": ".py",
   "mimetype": "text/x-python",
   "name": "python",
   "nbconvert_exporter": "python",
   "pygments_lexer": "ipython3",
   "version": "3.8.5"
  }
 },
 "nbformat": 4,
 "nbformat_minor": 4
}
